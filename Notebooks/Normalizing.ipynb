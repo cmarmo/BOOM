{
 "cells": [
  {
   "cell_type": "code",
   "execution_count": 1,
   "metadata": {},
   "outputs": [],
   "source": [
    "import pandas as pd\n",
    "import numpy as np"
   ]
  },
  {
   "cell_type": "code",
   "execution_count": 2,
   "metadata": {},
   "outputs": [],
   "source": [
    "def truncate(num, n):\n",
    "    integer = int(num * (10**n))/(10**n)\n",
    "    return float(integer)"
   ]
  },
  {
   "cell_type": "code",
   "execution_count": 3,
   "metadata": {},
   "outputs": [],
   "source": [
    "#Load raw data\n",
    "Data_raw = pd.read_excel(\"../Data/TephraDataBase_raw.xlsx\")"
   ]
  },
  {
   "cell_type": "code",
   "execution_count": 4,
   "metadata": {},
   "outputs": [
    {
     "name": "stderr",
     "output_type": "stream",
     "text": [
      "C:\\Users\\consu\\anaconda3\\lib\\site-packages\\ipykernel_launcher.py:19: SettingWithCopyWarning: \n",
      "A value is trying to be set on a copy of a slice from a DataFrame\n",
      "\n",
      "See the caveats in the documentation: https://pandas.pydata.org/pandas-docs/stable/user_guide/indexing.html#returning-a-view-versus-a-copy\n",
      "C:\\Users\\consu\\anaconda3\\lib\\site-packages\\ipykernel_launcher.py:23: SettingWithCopyWarning: \n",
      "A value is trying to be set on a copy of a slice from a DataFrame\n",
      "\n",
      "See the caveats in the documentation: https://pandas.pydata.org/pandas-docs/stable/user_guide/indexing.html#returning-a-view-versus-a-copy\n",
      "C:\\Users\\consu\\anaconda3\\lib\\site-packages\\ipykernel_launcher.py:25: SettingWithCopyWarning: \n",
      "A value is trying to be set on a copy of a slice from a DataFrame\n",
      "\n",
      "See the caveats in the documentation: https://pandas.pydata.org/pandas-docs/stable/user_guide/indexing.html#returning-a-view-versus-a-copy\n",
      "C:\\Users\\consu\\anaconda3\\lib\\site-packages\\ipykernel_launcher.py:35: SettingWithCopyWarning: \n",
      "A value is trying to be set on a copy of a slice from a DataFrame\n",
      "\n",
      "See the caveats in the documentation: https://pandas.pydata.org/pandas-docs/stable/user_guide/indexing.html#returning-a-view-versus-a-copy\n",
      "C:\\Users\\consu\\anaconda3\\lib\\site-packages\\ipykernel_launcher.py:37: SettingWithCopyWarning: \n",
      "A value is trying to be set on a copy of a slice from a DataFrame\n",
      "\n",
      "See the caveats in the documentation: https://pandas.pydata.org/pandas-docs/stable/user_guide/indexing.html#returning-a-view-versus-a-copy\n",
      "C:\\Users\\consu\\anaconda3\\lib\\site-packages\\ipykernel_launcher.py:29: SettingWithCopyWarning: \n",
      "A value is trying to be set on a copy of a slice from a DataFrame\n",
      "\n",
      "See the caveats in the documentation: https://pandas.pydata.org/pandas-docs/stable/user_guide/indexing.html#returning-a-view-versus-a-copy\n",
      "C:\\Users\\consu\\anaconda3\\lib\\site-packages\\ipykernel_launcher.py:31: SettingWithCopyWarning: \n",
      "A value is trying to be set on a copy of a slice from a DataFrame\n",
      "\n",
      "See the caveats in the documentation: https://pandas.pydata.org/pandas-docs/stable/user_guide/indexing.html#returning-a-view-versus-a-copy\n"
     ]
    }
   ],
   "source": [
    "#Replace nan in columns by -1 to filter it\n",
    "Data_raw.FeO = Data_raw.FeO.replace(np.nan,-1)\n",
    "Data_raw.Fe2O3 = Data_raw.Fe2O3.replace(np.nan,-1)\n",
    "Data_raw.FeOT = Data_raw.FeOT.replace(np.nan,-1)\n",
    "Data_raw.Fe2O3T = Data_raw.Fe2O3T.replace(np.nan,-1)\n",
    "Data_raw.Total = Data_raw.Total.replace(np.nan,-1)\n",
    "Data_renormalizado = Data_raw.copy()\n",
    "Data_raw = Data_raw.dropna(subset=['SiO2'],axis=0,how='any')\n",
    "\n",
    "for sample in Data_raw.SampleObservationID.unique():\n",
    "    i = Data_raw[Data_raw.SampleObservationID == sample].index[0]\n",
    "    #print(sample)\n",
    "    #print(i)\n",
    "    if Data_raw.Total[i]!= -1:\n",
    "        \n",
    "        if (Data_raw.FeOT[i] != -1)&(Data_raw.Fe2O3T[i] == -1)&(Data_raw.FeO[i] == -1)&(Data_raw.Fe2O3[i] == -1):\n",
    "            sum_ = np.nansum([Data_raw.SiO2[i],Data_raw.TiO2[i],Data_raw.Al2O3[i],Data_raw['FeOT'][i],Data_raw.MnO[i],Data_raw.MgO[i],Data_raw.CaO[i],Data_raw.Na2O[i],Data_raw.K2O[i],Data_raw.P2O5[i],Data_raw.Cl[i]])\n",
    "            for elemento in ['SiO2','TiO2','Al2O3','FeOT','MnO','MgO','CaO','Na2O','K2O','Cl']:\n",
    "                Data_renormalizado[elemento][i] = Data_raw[elemento][i]*100/sum_\n",
    "                \n",
    "        if (Data_raw.FeOT[i] == -1)&(Data_raw.Fe2O3T[i] != -1)&(Data_raw.FeO[i] == -1)&(Data_raw.Fe2O3[i] == -1):\n",
    "            sum_ = np.nansum([Data_raw.SiO2[i],Data_raw.TiO2[i],Data_raw.Al2O3[i],Data_raw['Fe2O3T'][i]*0.899,Data_raw.MnO[i],Data_raw.MgO[i],Data_raw.CaO[i],Data_raw.Na2O[i],Data_raw.K2O[i],Data_raw.P2O5[i],Data_raw.Cl[i]])\n",
    "            Data_renormalizado['Total'][i] = np.nansum([Data_raw.Total[i],Data_raw.LOI[i]])\n",
    "            for elemento in ['SiO2','TiO2','Al2O3','Fe2O3T','MnO','MgO','CaO','Na2O','K2O','Cl']:\n",
    "                Data_renormalizado[elemento][i] = Data_raw[elemento][i]*100/sum_\n",
    "                \n",
    "        if ((Data_raw.FeO[i] != -1)&(Data_raw.Fe2O3[i] != -1))&(Data_raw.FeOT[i] == -1):\n",
    "            sum_ = np.nansum([Data_raw.SiO2[i],Data_raw.TiO2[i],Data_raw.Al2O3[i],Data_raw['FeO'][i],0.899*Data_raw['Fe2O3'][i],Data_raw.MnO[i],Data_raw.MgO[i],Data_raw.CaO[i],Data_raw.Na2O[i],Data_raw.K2O[i],Data_raw.P2O5[i],Data_raw.Cl[i]])\n",
    "            Data_renormalizado['Total'][i] = np.nansum([Data_raw.Total[i],Data_raw.LOI[i]])\n",
    "            for elemento in ['SiO2','TiO2','Al2O3','FeO','Fe2O3','MnO','MgO','CaO','Na2O','K2O','Cl']:\n",
    "                Data_renormalizado[elemento][i] = Data_raw[elemento][i]*100/sum_\n",
    "\n",
    "        if ((Data_raw.FeO[i] != -1)&(Data_raw.Fe2O3[i] != -1))&(Data_raw.FeOT[i] != -1):\n",
    "            sum_ = np.nansum([Data_raw.SiO2[i],Data_raw.TiO2[i],Data_raw.Al2O3[i],Data_raw['FeO'][i],0.899*Data_raw['Fe2O3'][i],Data_raw.MnO[i],Data_raw.MgO[i],Data_raw.CaO[i],Data_raw.Na2O[i],Data_raw.K2O[i],Data_raw.P2O5[i],Data_raw.Cl[i]])\n",
    "            Data_renormalizado['Total'][i] = np.nansum([Data_raw.Total[i],Data_raw.LOI[i]])\n",
    "            for elemento in ['SiO2','TiO2','Al2O3','FeO','Fe2O3','FeOT','MnO','MgO','CaO','Na2O','K2O','Cl']:\n",
    "                Data_renormalizado[elemento][i] = Data_raw[elemento][i]*100/sum_                \n",
    "        \n",
    "Data_renormalizado = Data_renormalizado.replace(-1,np.nan)"
   ]
  },
  {
   "cell_type": "code",
   "execution_count": 5,
   "metadata": {},
   "outputs": [],
   "source": [
    "Data_renormalizado.to_excel('../Data/TephraDataBase_renormalizado.xlsx')"
   ]
  }
 ],
 "metadata": {
  "kernelspec": {
   "display_name": "Python 3",
   "language": "python",
   "name": "python3"
  },
  "language_info": {
   "codemirror_mode": {
    "name": "ipython",
    "version": 3
   },
   "file_extension": ".py",
   "mimetype": "text/x-python",
   "name": "python",
   "nbconvert_exporter": "python",
   "pygments_lexer": "ipython3",
   "version": "3.7.6"
  }
 },
 "nbformat": 4,
 "nbformat_minor": 4
}
