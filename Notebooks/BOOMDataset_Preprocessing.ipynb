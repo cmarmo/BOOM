{
 "cells": [
  {
   "cell_type": "markdown",
   "id": "f16b796b",
   "metadata": {},
   "source": [
    "# BOOM Dataset preprocessing for Machine Learning evaluation\n",
    "\n",
    "This notebook describes the filtering process of the BOOM dataset, to make it suitable for the machine learning evaluation. In the MachineLearning notebook, we evaluate the performance of different classification algorithms in identifying the volcanic source of a sample based in its geochemical composition. Here we prepare the data so that it is suitable for this purpose.\n",
    "\n",
    "The procedures in this notebook then define the \"Preprocessing\" function, which is called in the MachineLearning notebook."
   ]
  },
  {
   "cell_type": "code",
   "execution_count": 2,
   "id": "6c1ae8dd",
   "metadata": {},
   "outputs": [],
   "source": [
    "#load relevant libraries\n",
    "import pandas as pd\n",
    "import numpy as np\n",
    "import missingno as msno"
   ]
  },
  {
   "cell_type": "markdown",
   "id": "0edc7dec",
   "metadata": {},
   "source": [
    "# Load BOOM dataset"
   ]
  },
  {
   "cell_type": "code",
   "execution_count": 20,
   "id": "c8f28330",
   "metadata": {},
   "outputs": [],
   "source": [
    "import requests\n",
    "from io import StringIO\n",
    "\n",
    "#Download the dataset from the ESPRI server as .csv\n",
    "url = \"https://data.ipsl.fr/repository/TephraDatabase/TephraDataBase.csv\"\n",
    "s=requests.get(url).text\n",
    "df = pd.read_csv(StringIO(s), encoding=\"latin1\", low_memory=False)\n",
    "\n",
    "#in case the ESPRI server is down:\n",
    "#df = pd.read_csv(\"../assets/Data/BOOMDataset.csv\", encoding = 'UTF-8', low_memory =False )"
   ]
  },
  {
   "cell_type": "code",
   "execution_count": 21,
   "id": "70ce8e5d",
   "metadata": {},
   "outputs": [
    {
     "data": {
      "text/html": [
       "<div>\n",
       "<style scoped>\n",
       "    .dataframe tbody tr th:only-of-type {\n",
       "        vertical-align: middle;\n",
       "    }\n",
       "\n",
       "    .dataframe tbody tr th {\n",
       "        vertical-align: top;\n",
       "    }\n",
       "\n",
       "    .dataframe thead th {\n",
       "        text-align: right;\n",
       "    }\n",
       "</style>\n",
       "<table border=\"1\" class=\"dataframe\">\n",
       "  <thead>\n",
       "    <tr style=\"text-align: right;\">\n",
       "      <th></th>\n",
       "      <th>Magnitude</th>\n",
       "      <th>VEI</th>\n",
       "      <th>Latitude</th>\n",
       "      <th>Longitude</th>\n",
       "      <th>14C_Age</th>\n",
       "      <th>14C_Age_Error</th>\n",
       "      <th>40Ar39Ar_Age</th>\n",
       "      <th>40Ar39Ar_Age_Error</th>\n",
       "      <th>SiO2</th>\n",
       "      <th>TiO2</th>\n",
       "      <th>...</th>\n",
       "      <th>FeO_normalized</th>\n",
       "      <th>Fe2O3_normalized</th>\n",
       "      <th>Fe2O3T_normalized</th>\n",
       "      <th>FeOT_normalized</th>\n",
       "      <th>MgO_normalized</th>\n",
       "      <th>CaO_normalized</th>\n",
       "      <th>Na2O_normalized</th>\n",
       "      <th>K2O_normalized</th>\n",
       "      <th>Cl_normalized</th>\n",
       "      <th>Total_normalization</th>\n",
       "    </tr>\n",
       "  </thead>\n",
       "  <tbody>\n",
       "    <tr>\n",
       "      <th>count</th>\n",
       "      <td>5533.000000</td>\n",
       "      <td>3984.000000</td>\n",
       "      <td>16768.000000</td>\n",
       "      <td>16768.000000</td>\n",
       "      <td>414.000000</td>\n",
       "      <td>414.000000</td>\n",
       "      <td>10.000000</td>\n",
       "      <td>10.00000</td>\n",
       "      <td>13225.000000</td>\n",
       "      <td>13225.000000</td>\n",
       "      <td>...</td>\n",
       "      <td>407.000000</td>\n",
       "      <td>407.000000</td>\n",
       "      <td>697.000000</td>\n",
       "      <td>12774.000000</td>\n",
       "      <td>13593.000000</td>\n",
       "      <td>13593.000000</td>\n",
       "      <td>13593.000000</td>\n",
       "      <td>13593.000000</td>\n",
       "      <td>4646.000000</td>\n",
       "      <td>13026.000000</td>\n",
       "    </tr>\n",
       "    <tr>\n",
       "      <th>mean</th>\n",
       "      <td>4.645527</td>\n",
       "      <td>4.596135</td>\n",
       "      <td>-41.559759</td>\n",
       "      <td>-72.109693</td>\n",
       "      <td>6055.048309</td>\n",
       "      <td>61.932367</td>\n",
       "      <td>10441.800000</td>\n",
       "      <td>1850.20000</td>\n",
       "      <td>63.531704</td>\n",
       "      <td>0.978370</td>\n",
       "      <td>...</td>\n",
       "      <td>7.126757</td>\n",
       "      <td>2.557220</td>\n",
       "      <td>8.389358</td>\n",
       "      <td>5.833811</td>\n",
       "      <td>1.942304</td>\n",
       "      <td>4.348837</td>\n",
       "      <td>4.481173</td>\n",
       "      <td>2.059293</td>\n",
       "      <td>0.147719</td>\n",
       "      <td>98.751745</td>\n",
       "    </tr>\n",
       "    <tr>\n",
       "      <th>std</th>\n",
       "      <td>0.938234</td>\n",
       "      <td>0.700271</td>\n",
       "      <td>3.212183</td>\n",
       "      <td>0.856737</td>\n",
       "      <td>4366.262935</td>\n",
       "      <td>46.109148</td>\n",
       "      <td>5742.516402</td>\n",
       "      <td>1136.15353</td>\n",
       "      <td>7.141434</td>\n",
       "      <td>0.568109</td>\n",
       "      <td>...</td>\n",
       "      <td>2.373362</td>\n",
       "      <td>1.123712</td>\n",
       "      <td>2.259415</td>\n",
       "      <td>3.368311</td>\n",
       "      <td>1.741784</td>\n",
       "      <td>2.723194</td>\n",
       "      <td>0.872142</td>\n",
       "      <td>0.951101</td>\n",
       "      <td>0.061761</td>\n",
       "      <td>1.605344</td>\n",
       "    </tr>\n",
       "    <tr>\n",
       "      <th>min</th>\n",
       "      <td>2.000000</td>\n",
       "      <td>2.000000</td>\n",
       "      <td>-53.750000</td>\n",
       "      <td>-75.680000</td>\n",
       "      <td>90.000000</td>\n",
       "      <td>19.000000</td>\n",
       "      <td>18.000000</td>\n",
       "      <td>2.00000</td>\n",
       "      <td>45.972845</td>\n",
       "      <td>0.000000</td>\n",
       "      <td>...</td>\n",
       "      <td>0.290000</td>\n",
       "      <td>0.150000</td>\n",
       "      <td>1.399078</td>\n",
       "      <td>0.120000</td>\n",
       "      <td>0.000000</td>\n",
       "      <td>0.345768</td>\n",
       "      <td>0.983520</td>\n",
       "      <td>0.008971</td>\n",
       "      <td>0.001000</td>\n",
       "      <td>89.403912</td>\n",
       "    </tr>\n",
       "    <tr>\n",
       "      <th>25%</th>\n",
       "      <td>4.000000</td>\n",
       "      <td>4.000000</td>\n",
       "      <td>-42.890833</td>\n",
       "      <td>-72.419000</td>\n",
       "      <td>2203.750000</td>\n",
       "      <td>35.000000</td>\n",
       "      <td>6525.000000</td>\n",
       "      <td>1100.00000</td>\n",
       "      <td>56.624000</td>\n",
       "      <td>0.521100</td>\n",
       "      <td>...</td>\n",
       "      <td>5.414728</td>\n",
       "      <td>2.168552</td>\n",
       "      <td>6.859209</td>\n",
       "      <td>3.244645</td>\n",
       "      <td>0.515906</td>\n",
       "      <td>1.964002</td>\n",
       "      <td>3.800182</td>\n",
       "      <td>1.198177</td>\n",
       "      <td>0.097194</td>\n",
       "      <td>97.888700</td>\n",
       "    </tr>\n",
       "    <tr>\n",
       "      <th>50%</th>\n",
       "      <td>5.000000</td>\n",
       "      <td>5.000000</td>\n",
       "      <td>-40.369600</td>\n",
       "      <td>-71.972000</td>\n",
       "      <td>5210.000000</td>\n",
       "      <td>50.000000</td>\n",
       "      <td>11750.000000</td>\n",
       "      <td>1750.00000</td>\n",
       "      <td>64.403495</td>\n",
       "      <td>0.950000</td>\n",
       "      <td>...</td>\n",
       "      <td>8.066789</td>\n",
       "      <td>2.304364</td>\n",
       "      <td>8.780282</td>\n",
       "      <td>4.805692</td>\n",
       "      <td>1.243199</td>\n",
       "      <td>3.441494</td>\n",
       "      <td>4.536318</td>\n",
       "      <td>1.904998</td>\n",
       "      <td>0.143800</td>\n",
       "      <td>98.975950</td>\n",
       "    </tr>\n",
       "    <tr>\n",
       "      <th>75%</th>\n",
       "      <td>5.300000</td>\n",
       "      <td>5.000000</td>\n",
       "      <td>-39.546000</td>\n",
       "      <td>-71.630000</td>\n",
       "      <td>9543.000000</td>\n",
       "      <td>70.000000</td>\n",
       "      <td>14250.000000</td>\n",
       "      <td>2700.00000</td>\n",
       "      <td>69.539900</td>\n",
       "      <td>1.366700</td>\n",
       "      <td>...</td>\n",
       "      <td>8.547477</td>\n",
       "      <td>2.601469</td>\n",
       "      <td>10.016435</td>\n",
       "      <td>9.107538</td>\n",
       "      <td>3.222522</td>\n",
       "      <td>6.861193</td>\n",
       "      <td>5.144314</td>\n",
       "      <td>2.920075</td>\n",
       "      <td>0.191679</td>\n",
       "      <td>99.817983</td>\n",
       "    </tr>\n",
       "    <tr>\n",
       "      <th>max</th>\n",
       "      <td>6.200000</td>\n",
       "      <td>6.000000</td>\n",
       "      <td>-38.438690</td>\n",
       "      <td>-68.700000</td>\n",
       "      <td>17774.000000</td>\n",
       "      <td>400.000000</td>\n",
       "      <td>18700.000000</td>\n",
       "      <td>3800.00000</td>\n",
       "      <td>79.611240</td>\n",
       "      <td>6.280000</td>\n",
       "      <td>...</td>\n",
       "      <td>11.530120</td>\n",
       "      <td>8.005325</td>\n",
       "      <td>15.440233</td>\n",
       "      <td>15.311673</td>\n",
       "      <td>16.174723</td>\n",
       "      <td>12.001885</td>\n",
       "      <td>7.781000</td>\n",
       "      <td>5.880588</td>\n",
       "      <td>0.610061</td>\n",
       "      <td>103.070000</td>\n",
       "    </tr>\n",
       "  </tbody>\n",
       "</table>\n",
       "<p>8 rows × 60 columns</p>\n",
       "</div>"
      ],
      "text/plain": [
       "         Magnitude          VEI      Latitude     Longitude       14C_Age  \\\n",
       "count  5533.000000  3984.000000  16768.000000  16768.000000    414.000000   \n",
       "mean      4.645527     4.596135    -41.559759    -72.109693   6055.048309   \n",
       "std       0.938234     0.700271      3.212183      0.856737   4366.262935   \n",
       "min       2.000000     2.000000    -53.750000    -75.680000     90.000000   \n",
       "25%       4.000000     4.000000    -42.890833    -72.419000   2203.750000   \n",
       "50%       5.000000     5.000000    -40.369600    -71.972000   5210.000000   \n",
       "75%       5.300000     5.000000    -39.546000    -71.630000   9543.000000   \n",
       "max       6.200000     6.000000    -38.438690    -68.700000  17774.000000   \n",
       "\n",
       "       14C_Age_Error  40Ar39Ar_Age  40Ar39Ar_Age_Error          SiO2  \\\n",
       "count     414.000000     10.000000            10.00000  13225.000000   \n",
       "mean       61.932367  10441.800000          1850.20000     63.531704   \n",
       "std        46.109148   5742.516402          1136.15353      7.141434   \n",
       "min        19.000000     18.000000             2.00000     45.972845   \n",
       "25%        35.000000   6525.000000          1100.00000     56.624000   \n",
       "50%        50.000000  11750.000000          1750.00000     64.403495   \n",
       "75%        70.000000  14250.000000          2700.00000     69.539900   \n",
       "max       400.000000  18700.000000          3800.00000     79.611240   \n",
       "\n",
       "               TiO2  ...  FeO_normalized  Fe2O3_normalized  Fe2O3T_normalized  \\\n",
       "count  13225.000000  ...      407.000000        407.000000         697.000000   \n",
       "mean       0.978370  ...        7.126757          2.557220           8.389358   \n",
       "std        0.568109  ...        2.373362          1.123712           2.259415   \n",
       "min        0.000000  ...        0.290000          0.150000           1.399078   \n",
       "25%        0.521100  ...        5.414728          2.168552           6.859209   \n",
       "50%        0.950000  ...        8.066789          2.304364           8.780282   \n",
       "75%        1.366700  ...        8.547477          2.601469          10.016435   \n",
       "max        6.280000  ...       11.530120          8.005325          15.440233   \n",
       "\n",
       "       FeOT_normalized  MgO_normalized  CaO_normalized  Na2O_normalized  \\\n",
       "count     12774.000000    13593.000000    13593.000000     13593.000000   \n",
       "mean          5.833811        1.942304        4.348837         4.481173   \n",
       "std           3.368311        1.741784        2.723194         0.872142   \n",
       "min           0.120000        0.000000        0.345768         0.983520   \n",
       "25%           3.244645        0.515906        1.964002         3.800182   \n",
       "50%           4.805692        1.243199        3.441494         4.536318   \n",
       "75%           9.107538        3.222522        6.861193         5.144314   \n",
       "max          15.311673       16.174723       12.001885         7.781000   \n",
       "\n",
       "       K2O_normalized  Cl_normalized  Total_normalization  \n",
       "count    13593.000000    4646.000000         13026.000000  \n",
       "mean         2.059293       0.147719            98.751745  \n",
       "std          0.951101       0.061761             1.605344  \n",
       "min          0.008971       0.001000            89.403912  \n",
       "25%          1.198177       0.097194            97.888700  \n",
       "50%          1.904998       0.143800            98.975950  \n",
       "75%          2.920075       0.191679            99.817983  \n",
       "max          5.880588       0.610061           103.070000  \n",
       "\n",
       "[8 rows x 60 columns]"
      ]
     },
     "execution_count": 21,
     "metadata": {},
     "output_type": "execute_result"
    }
   ],
   "source": [
    "df.describe()"
   ]
  },
  {
   "cell_type": "code",
   "execution_count": 22,
   "id": "60d34b78",
   "metadata": {},
   "outputs": [
    {
     "name": "stdout",
     "output_type": "stream",
     "text": [
      "This dataset consists of 16768 samples and 100 variables.\n"
     ]
    }
   ],
   "source": [
    "n, p = df.shape\n",
    "print(f'This dataset consists of {n} samples and {p} variables.')"
   ]
  },
  {
   "cell_type": "markdown",
   "id": "45a2f5b3",
   "metadata": {},
   "source": [
    "The target variable will be the volcano ID, i.e. the machine learning will be used to predict the volcano ID of a sample, given its geochemistry. Let's look at them."
   ]
  },
  {
   "cell_type": "code",
   "execution_count": 23,
   "id": "9f972478",
   "metadata": {},
   "outputs": [
    {
     "name": "stdout",
     "output_type": "stream",
     "text": [
      "There are 32 different volcanos.\n"
     ]
    },
    {
     "data": {
      "text/plain": [
       "Mocho-Choshuenco         2691\n",
       "Chaitén                  2343\n",
       "Puyehue-Cordón Caulle    1924\n",
       "Llaima                   1479\n",
       "Quetrupillán             1214\n",
       "Hudson                    994\n",
       "Villarrica                865\n",
       "Michinmahuida             629\n",
       "Melimoyu                  464\n",
       "Monte Burney              421\n",
       "Antillanca-Casablanca     242\n",
       "Reclus                    193\n",
       "Carrán-Los Venados        186\n",
       "Calbuco                   179\n",
       "Huanquihue Group          176\n",
       "Caburga-Huelemolle        135\n",
       "Mentolat                  121\n",
       "Osorno                    102\n",
       "Lanín                      91\n",
       "Sollipulli                 75\n",
       "Apagado                    48\n",
       "Aguilera                   45\n",
       "Yate                       43\n",
       "Lautaro                    41\n",
       "Macá                       27\n",
       "Hornopirén                 27\n",
       "Subsidiary Vcha dome       21\n",
       "Cay                        17\n",
       "Corcovado                  11\n",
       "Huequi                     11\n",
       "Yanteles                    7\n",
       "Cordón Cabrera              4\n",
       "Name: Volcano, dtype: int64"
      ]
     },
     "execution_count": 23,
     "metadata": {},
     "output_type": "execute_result"
    }
   ],
   "source": [
    "y = len(df[df.Volcano!='Unknown']['Volcano'].unique())\n",
    "print(f'There are {y} different volcanos.')\n",
    "df[df.Volcano!='Unknown']['Volcano'].value_counts()"
   ]
  },
  {
   "cell_type": "markdown",
   "id": "3d821694",
   "metadata": {},
   "source": [
    "1. In order to prepare the dataset for the Machine learning analyss, first of all we drop rows corresponding to samples not analyzed for geochemistry, as well as outliers, samples for which the volcanic source is uncertain, and samples with Analytical Totals lower than 94 wt.%, as they might correspond to altered samples."
   ]
  },
  {
   "cell_type": "code",
   "execution_count": 24,
   "id": "e240ce3d",
   "metadata": {},
   "outputs": [
    {
     "data": {
      "text/plain": [
       "Pyroclastic material    15851\n",
       "Organic matter            413\n",
       "Effusive material         401\n",
       "Name: TypeOfRegister, dtype: int64"
      ]
     },
     "execution_count": 24,
     "metadata": {},
     "output_type": "execute_result"
    }
   ],
   "source": [
    "df['TypeOfRegister'].value_counts()"
   ]
  },
  {
   "cell_type": "code",
   "execution_count": 25,
   "id": "580437d6",
   "metadata": {},
   "outputs": [],
   "source": [
    "is_register = df.TypeOfRegister.isin(['Pyroclastic material','Effusive material'])"
   ]
  },
  {
   "cell_type": "code",
   "execution_count": 26,
   "id": "2b991ed0",
   "metadata": {},
   "outputs": [
    {
     "data": {
      "text/plain": [
       "NaN                                                    10364\n",
       "EventName_Issue                                         2249\n",
       "Geochemistry_Issue                                      1715\n",
       "SampleID_Issue                                           549\n",
       "Position_Issue                                           547\n",
       "Position_Issue, EventName_Issue                          244\n",
       "DOI_Issue                                                209\n",
       "VolcanicSource_Issue                                     188\n",
       "Position_Issue, Geochemistry_Issue                       127\n",
       "SampleID_Issue, Geochemistry_Issue                        90\n",
       "DOI_Issue, Geochemistry_Issue                             87\n",
       "VolcanicSource_Issue, Geochemistry_Issue                  68\n",
       "SampleID_Issue, EventName_Issue                           58\n",
       "Position_Issue, DOI_Issue                                 36\n",
       "VolcanicSource_Issue, EventName_Issue                     33\n",
       "Position_Issue, DOI_Issue, Geochemistry_issue             32\n",
       "Geochemistry_Issue, EventName_Issue                       27\n",
       "Position_Issue,  Geochemistry_Issue                       27\n",
       "Outlier                                                   17\n",
       "SampleID_Issue, Position_Issue, Geochemistry_Issue        16\n",
       "Position_Issue, DOI_Issue, Geochemistry_Issue             13\n",
       "EventName_Issue, Geochemistry_Issue                       12\n",
       "SampleID_Issue, DOI_Issue                                 10\n",
       "Geochemistry_Issue, Outlier                               10\n",
       "EventName_Issue, SampleID_Issue                           10\n",
       "Position_Issue, Geochemistry_Issue, DOI_Issue              7\n",
       "Age_Issue                                                  6\n",
       "SampleID_Issue, Position_Issue, DOI_Issue                  4\n",
       "SampleID_Issue, Outlier                                    4\n",
       "VolcanicSource_Issue,  EventName_Issue                     3\n",
       "Age_Issue, VolcanicSource_Issue, EventName_Issue           1\n",
       "Position_Issue, SampleID_Issue                             1\n",
       "Position_Issue, VolcanicSource_Issue                       1\n",
       "SampleID_Issue, Position_Issue                             1\n",
       "Position_Issue, Geochemistry_Issue, EventName_Issue        1\n",
       "Geochemistry_Issue, Position_Issue                         1\n",
       "Name: Flag, dtype: int64"
      ]
     },
     "execution_count": 26,
     "metadata": {},
     "output_type": "execute_result"
    }
   ],
   "source": [
    "df['Flag'].value_counts(dropna=False)"
   ]
  },
  {
   "cell_type": "code",
   "execution_count": 27,
   "id": "57514458",
   "metadata": {},
   "outputs": [],
   "source": [
    "isnot_outlier = df.Flag.str.contains('Outlier', na=False, case=False) == False"
   ]
  },
  {
   "cell_type": "code",
   "execution_count": 28,
   "id": "a5c9e68a",
   "metadata": {},
   "outputs": [],
   "source": [
    "isnot_VolcanicSourceIssue = df.Flag.str.contains(\n",
    "    'VolcanicSource_Issue', na=False, case=False) == False"
   ]
  },
  {
   "cell_type": "code",
   "execution_count": 29,
   "id": "b9ba237e",
   "metadata": {},
   "outputs": [],
   "source": [
    "df.SiO2 = df.SiO2.replace(np.nan, -1)\n",
    "isnot_altered = ((df.Total > 95) & (df.SiO2 != -1)) | (df.SiO2 == -1)  \n",
    "df.SiO2 = df.SiO2.replace(-1,np.nan)"
   ]
  },
  {
   "cell_type": "code",
   "execution_count": 30,
   "id": "7f180825",
   "metadata": {},
   "outputs": [],
   "source": [
    "df = df.loc[is_register & isnot_outlier & isnot_VolcanicSourceIssue & isnot_altered]"
   ]
  },
  {
   "cell_type": "code",
   "execution_count": 31,
   "id": "476998f7",
   "metadata": {},
   "outputs": [
    {
     "name": "stdout",
     "output_type": "stream",
     "text": [
      "There are 15656 rows left.\n"
     ]
    }
   ],
   "source": [
    "n, _ = df.shape\n",
    "print(f'There are {n} rows left.')"
   ]
  },
  {
   "cell_type": "markdown",
   "id": "5fd45c2d",
   "metadata": {},
   "source": [
    "2 In second place, we will replace some of the values in the BOOM dataset.\n",
    "\n",
    "2.1 Replace element concentrations registered as \"0\" with \"below detection limit\" (bdl). Because a value equal to zero is not possible to determine with the current analytical techniques, thus bdl is more accurate."
   ]
  },
  {
   "cell_type": "code",
   "execution_count": 32,
   "id": "979e1594",
   "metadata": {},
   "outputs": [],
   "source": [
    "for elemento in [\"SiO2\",\"TiO2\",\"Al2O3\",\"FeO\",\"Fe2O3\",\n",
    "                 \"MnO\",\"MgO\",\"CaO\",\"Na2O\",\"K2O\",\"P2O5\",\n",
    "                 \"Cl\",'Rb','Sr','Y','Zr','Nb',\n",
    "                 'Cs','Ba','La','Ce','Pr','Nd',\n",
    "                 'Sm','Eu','Gd','Tb','Dy','Ho',\n",
    "                 'Er','Tm','Yb','Lu','Hf','Ta',\n",
    "                 'Pb','Th','U']:\n",
    "    df[elemento] = df[elemento].replace(to_replace=0, value='bdl')"
   ]
  },
  {
   "cell_type": "markdown",
   "id": "69edb54a",
   "metadata": {},
   "source": [
    "2.2 Repace the various missing values placeholders by np.nan."
   ]
  },
  {
   "cell_type": "code",
   "execution_count": 33,
   "id": "058a92f3",
   "metadata": {},
   "outputs": [],
   "source": [
    "df.replace(to_replace='n.a.', value=np.nan, inplace=True)\n",
    "df.replace(to_replace='Not analyzed', value=np.nan, inplace=True)\n",
    "df.replace(to_replace='-', value=np.nan, inplace=True)\n",
    "df.replace(to_replace='Not determined', value=np.nan, inplace=True)\n",
    "df.replace(to_replace='n.d', value=np.nan, inplace=True)\n",
    "df.replace(to_replace='n.d.', value=np.nan, inplace=True)\n",
    "df.replace(to_replace='<0.01', value=np.nan, inplace=True)\n",
    "df.replace(to_replace='<0.1', value=np.nan, inplace=True)\n",
    "df.replace(to_replace='<1', value=np.nan, inplace=True)\n",
    "df.replace(to_replace='<5', value=np.nan, inplace=True)\n",
    "df.replace(to_replace='<6', value=np.nan, inplace=True)\n",
    "df.replace(to_replace='<10', value=np.nan, inplace=True)\n",
    "df.replace(to_replace='Over range', value=np.nan, inplace=True)\n",
    "df.replace(to_replace='bdl', value=np.nan, inplace=True)"
   ]
  },
  {
   "cell_type": "markdown",
   "id": "daff361f",
   "metadata": {},
   "source": [
    "2.3 Make sure major and trace elements correspond to numbers and not strings."
   ]
  },
  {
   "cell_type": "code",
   "execution_count": 34,
   "id": "ca90d3ea",
   "metadata": {
    "scrolled": true
   },
   "outputs": [],
   "source": [
    "df.loc[:, 'Rb':'U'] = df.loc[:, 'Rb':'U'].astype('float')\n",
    "df.loc[:, 'SiO2_normalized':'K2O_normalized'] = df.loc[:, 'SiO2_normalized':'K2O_normalized'].astype('float')"
   ]
  },
  {
   "cell_type": "markdown",
   "id": "f0cdb2ea",
   "metadata": {},
   "source": [
    "3 Because Fe can be analyzed in different states (FeO, Fe2O3, FeOT, Fe2O3T, thoroughly described in Martínez Fontaine et al., *in preparation*), the columns describing Fe have many missing values, but which can be filled by transforming one form of Fe into another. Because most of the samples in the BOOM dataset have been analyzed by Electron Microprobe analysis, which analyzes Fe as FeOT, we calculate FeOT for all the samples and drop the other rows (Fe2O3, Fe2O3T, FeO) as they are redundant."
   ]
  },
  {
   "cell_type": "code",
   "execution_count": 35,
   "id": "beed6117",
   "metadata": {},
   "outputs": [],
   "source": [
    "#case 1: Fe is presented as Fe2O3 and FeO in the original publication\n",
    "ind = (~df.SiO2_normalized.isna() &\n",
    "       df.FeOT_normalized.isna() &\n",
    "       ~df.FeO_normalized.isna() &\n",
    "       ~df.Fe2O3_normalized.isna()&\n",
    "       df.Fe2O3T_normalized.isna()\n",
    "      )\n",
    "df.loc[ind,'FeOT_normalized'] = df.FeO_normalized.loc[ind]+df.Fe2O3_normalized.loc[ind]*0.899\n",
    "\n",
    "#case 2: Fe is presented as Fe2O3T in the original publication\n",
    "ind = (~df.SiO2_normalized.isna()&\n",
    "       df.FeOT_normalized.isna()&\n",
    "       df.FeO_normalized.isna()&\n",
    "       ~df.Fe2O3T_normalized.isna()&\n",
    "       df.Fe2O3_normalized.isna()\n",
    "      )\n",
    "\n",
    "df.loc[ind,'FeOT_normalized'] = df.Fe2O3T_normalized.loc[ind]*0.899"
   ]
  },
  {
   "cell_type": "code",
   "execution_count": 36,
   "id": "86941565",
   "metadata": {},
   "outputs": [],
   "source": [
    "df.drop(['FeO_normalized','Fe2O3_normalized', 'Fe2O3T_normalized'], axis=1, inplace=True)"
   ]
  },
  {
   "cell_type": "markdown",
   "id": "38e7f592",
   "metadata": {},
   "source": [
    "4 When training the models, all sample observations corresponding to the same sample should either be in the train or test sets. Thus, we will check if there is any volcanic center with information from only one sample ID."
   ]
  },
  {
   "cell_type": "code",
   "execution_count": 37,
   "id": "a6f9a22b",
   "metadata": {},
   "outputs": [
    {
     "name": "stdout",
     "output_type": "stream",
     "text": [
      "There are 2388 unique samples IDs\n"
     ]
    }
   ],
   "source": [
    "co = pd.crosstab(df.Volcano, df.SampleID)\n",
    "_, n_sampleID = co.shape\n",
    "print(f'There are {n_sampleID} unique samples IDs')"
   ]
  },
  {
   "cell_type": "code",
   "execution_count": 38,
   "id": "48c76f36",
   "metadata": {},
   "outputs": [
    {
     "name": "stdout",
     "output_type": "stream",
     "text": [
      "There are 2 sampleIDs which contain several observations from several volcanoes:\n",
      "['T-35', 'T-36']\n"
     ]
    }
   ],
   "source": [
    "is_nonzero = co > 0\n",
    "n_volcan_per_sampleID = is_nonzero.sum(axis=0)\n",
    "unique, counts = np.unique(n_volcan_per_sampleID, return_counts=True)\n",
    "ind_ids = np.where(is_nonzero.sum(axis=0) == 2)[0]\n",
    "print(f'There are {len(ind_ids)} sampleIDs which contain several observations from several volcanoes:')\n",
    "print([co.columns[ind_ids].values[i] for i in range(len(ind_ids))])"
   ]
  },
  {
   "cell_type": "code",
   "execution_count": 39,
   "id": "3af6f616",
   "metadata": {},
   "outputs": [
    {
     "name": "stdout",
     "output_type": "stream",
     "text": [
      "There is 1 volcanic center whose observations all come from the same sample IDs:\n",
      "['Subsidiary Vcha dome']\n"
     ]
    }
   ],
   "source": [
    "n_sampleID_per_volcan = is_nonzero.sum(axis=1)\n",
    "ind_ids = np.where(n_sampleID_per_volcan == 1)[0]\n",
    "print(f'There is {len(ind_ids)} volcanic center whose observations all come from the same sample IDs:')\n",
    "print([co.index[i] for i in ind_ids])"
   ]
  },
  {
   "cell_type": "code",
   "execution_count": 40,
   "id": "c6458d28",
   "metadata": {},
   "outputs": [],
   "source": [
    "df = df[df.Volcano != co.index[ind_ids[0]]]"
   ]
  },
  {
   "cell_type": "code",
   "execution_count": 41,
   "id": "fcbfe969",
   "metadata": {},
   "outputs": [
    {
     "name": "stdout",
     "output_type": "stream",
     "text": [
      "There are 15635 observations left.\n"
     ]
    }
   ],
   "source": [
    "print(f'There are {len(df)} observations left.')"
   ]
  },
  {
   "cell_type": "markdown",
   "id": "e99ac452",
   "metadata": {},
   "source": [
    "After all this filtering, let's look again the amount of data for each volcanic center."
   ]
  },
  {
   "cell_type": "code",
   "execution_count": 42,
   "id": "776e048e",
   "metadata": {},
   "outputs": [
    {
     "name": "stdout",
     "output_type": "stream",
     "text": [
      "There are 31 different volcanos.\n"
     ]
    },
    {
     "data": {
      "text/plain": [
       "Mocho-Choshuenco         2598\n",
       "Chaitén                  2211\n",
       "Puyehue-Cordón Caulle    1887\n",
       "Unknown                  1692\n",
       "Llaima                   1391\n",
       "Quetrupillán             1177\n",
       "Hudson                    942\n",
       "Villarrica                858\n",
       "Michinmahuida             569\n",
       "Melimoyu                  456\n",
       "Monte Burney              350\n",
       "Antillanca-Casablanca     223\n",
       "Huanquihue Group          176\n",
       "Calbuco                   158\n",
       "Reclus                    140\n",
       "Caburga-Huelemolle        134\n",
       "Mentolat                  119\n",
       "Carrán-Los Venados        115\n",
       "Lanín                      71\n",
       "Sollipulli                 70\n",
       "Osorno                     67\n",
       "Apagado                    44\n",
       "Aguilera                   42\n",
       "Yate                       40\n",
       "Lautaro                    37\n",
       "Hornopirén                 26\n",
       "Macá                       13\n",
       "Huequi                     11\n",
       "Cay                         8\n",
       "Corcovado                   4\n",
       "Cordón Cabrera              4\n",
       "Yanteles                    2\n",
       "Name: Volcano, dtype: int64"
      ]
     },
     "execution_count": 42,
     "metadata": {},
     "output_type": "execute_result"
    }
   ],
   "source": [
    "y = len(df[df.Volcano!='Unknown']['Volcano'].unique())\n",
    "print(f'There are {y} different volcanos.')\n",
    "df['Volcano'].value_counts()"
   ]
  },
  {
   "cell_type": "markdown",
   "id": "24020b3c",
   "metadata": {},
   "source": [
    "5. We will drop the volcanoes with less than 10 observations."
   ]
  },
  {
   "cell_type": "code",
   "execution_count": 43,
   "id": "416a4ac4",
   "metadata": {},
   "outputs": [
    {
     "name": "stdout",
     "output_type": "stream",
     "text": [
      "The dataset now has 15617 samples.\n"
     ]
    }
   ],
   "source": [
    "Cay = df.Volcano=='Cay'\n",
    "CordonC = df.Volcano=='Cordón Cabrera'\n",
    "Corcovado =  df.Volcano=='Corcovado'\n",
    "Yanteles = df.Volcano=='Yanteles'\n",
    "\n",
    "df = df.loc[~Cay & ~CordonC & ~Corcovado & ~Yanteles]\n",
    "n, p = df.shape\n",
    "print(f'The dataset now has {n} samples.')"
   ]
  },
  {
   "cell_type": "markdown",
   "id": "70d39160",
   "metadata": {},
   "source": [
    "After all this filtering we check the missigness of the data which we will use for training the models."
   ]
  },
  {
   "cell_type": "code",
   "execution_count": 44,
   "id": "2072edb0",
   "metadata": {},
   "outputs": [
    {
     "data": {
      "text/plain": [
       "<AxesSubplot:>"
      ]
     },
     "execution_count": 44,
     "metadata": {},
     "output_type": "execute_result"
    },
    {
     "data": {
      "image/png": "[encoded data removed]",
      "text/plain": [
       "<Figure size 1800x720 with 2 Axes>"
      ]
     },
     "metadata": {
      "needs_background": "light"
     },
     "output_type": "display_data"
    }
   ],
   "source": [
    "msno.matrix(df[df.Volcano!='Unknown'].loc[:,'Rb':'K2O_normalized'])"
   ]
  }
 ],
 "metadata": {
  "kernelspec": {
   "display_name": "ML",
   "language": "python",
   "name": "ml"
  },
  "language_info": {
   "codemirror_mode": {
    "name": "ipython",
    "version": 3
   },
   "file_extension": ".py",
   "mimetype": "text/x-python",
   "name": "python",
   "nbconvert_exporter": "python",
   "pygments_lexer": "ipython3",
   "version": "3.10.4"
  }
 },
 "nbformat": 4,
 "nbformat_minor": 5
}
